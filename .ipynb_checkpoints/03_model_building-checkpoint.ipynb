{
 "cells": [
  {
   "cell_type": "markdown",
   "id": "f39f1bed",
   "metadata": {},
   "source": [
    "1"
   ]
  }
 ],
 "metadata": {
  "language_info": {
   "name": "python"
  }
 },
 "nbformat": 4,
 "nbformat_minor": 5
}
